{
 "cells": [
  {
   "cell_type": "code",
   "execution_count": null,
   "id": "54768737-2884-4bea-9573-aa830021e0e6",
   "metadata": {},
   "outputs": [],
   "source": [
    "s = \"Hello, World!\"\n",
    "print(len(s))\n",
    "print(s[len(s)-3:])\n",
    "print(s[-3:])\n",
    "print(s[:-3])\n",
    "print(s[::-1])    # when you put step -1, the string will be reversed\n",
    "print(s[-10:-13:-1])\n",
    "print(f\"{(s[-4:-1:1])}\")\n",
    "print(s[-1:-4:-1])\n",
    "print(s[:0:-1])\n",
    "s[1:-5:-1]\n",
    "print(s[-5:1:-1])"
   ]
  },
  {
   "cell_type": "code",
   "execution_count": null,
   "id": "8eff5b49-71f3-4455-baab-ecc40a0e5c8e",
   "metadata": {},
   "outputs": [],
   "source": [
    "my_string = \"The_quick_brown_fox_jumps_over_the_lazy_dog\"\n",
    "# > reverse a substring from index -10 to -30 with a step of -1\n",
    "print(my_string)\n",
    "print(len(my_string))\n",
    "# my_string[-10:-30:-1]\n",
    "# > Extract \"dog lazy the over\" form the reversed string\n",
    "rev_sen = my_string[-3::] + \" \" + my_string[-8:-4] + \" \" + my_string[-12:-9] + \" \" + my_string[-17:-13]\n",
    "print(rev_sen)\n",
    "# > Extract every second character in reverse from the original string\n",
    "# my_string[::-2]"
   ]
  },
  {
   "cell_type": "code",
   "execution_count": 32,
   "id": "82c542b0-c81e-4a9a-adb5-7ee8ccb58b01",
   "metadata": {},
   "outputs": [
    {
     "name": "stdout",
     "output_type": "stream",
     "text": [
      "1008\n",
      "Indian cuisine offers a rich and diverse array of vegetarian dishes\n",
      "\n",
      "Last sentence: Each region offers its own specialties, ensuring a vast and exciting culinary landscape for vegetarians to explore.\n"
     ]
    }
   ],
   "source": [
    "# Paragraph:\n",
    "string =  \"Indian cuisine offers a rich and diverse array of vegetarian dishes, reflecting the country's cultural and regional variations. Staples like lentils, rice, and a variety of fresh vegetables form the foundation of many meals. Dishes such as dal (lentil stew), sabzi (vegetable curry), and roti (unleavened bread) are commonplace. Spices play a crucial role, with ingredients like turmeric, cumin, coriander, and garam masala imparting unique flavors. South Indian cuisine features dishes like dosa (fermented crepe), idli (steamed rice cakes), and sambar (spicy lentil soup). North Indian cuisine is famous for dishes like paneer tikka (grilled cheese), chole (chickpea curry), and aloo gobi (potato and cauliflower curry). Street foods such as samosas, bhel puri, and pav bhaji are popular across the country. Many Indian sweets, including gulab jamun, jalebi, and barfi, are also vegetarian. Each region offers its own specialties, ensuring a vast and exciting culinary landscape for vegetarians to explore.\"\n",
    "\n",
    "print(len(string))\n",
    "\n",
    "# > Maggie Tasks:\n",
    "# Extract the first sentence of the paragraph.\n",
    "first_sen = string[0:67]\n",
    "print(first_sen)\n",
    "# Extract the last sentence of the paragraph.\n",
    "last_sen = string[893:]\n",
    "print(\"\\nLast sentence: \" + last_sen)\n",
    "# Extract the word \"lentils\" from the paragraph.\n",
    "# Extract the first five words of the paragraph.\n",
    "# Extract the last five words of the paragraph.\n",
    "# Extract the phrase \"South Indian cuisine features dishes like dosa\".\n",
    "# Extract all the words between \"coriander\" and \"idli\".\n",
    "# Extract the name of three North Indian dishes.\n",
    "# Extract the names of all South Indian dishes mentioned.\n",
    "# Extract the name of the first street food mentioned.\n",
    "# Extract the phrase \"unique flavors\" from the paragraph.\n",
    "# Extract the names of all spices mentioned in the paragraph.\n",
    "# Extract the phrase \"Indian sweets, including gulab jamun, jalebi, and barfi\".\n",
    "# Extract the phrase \"North Indian cuisine is famous for dishes\".\n",
    "# Extract the phrase \"foundation of many meals\".\n",
    "# Extract the first mention of the word \"curry\".\n",
    "# Extract the phrase \"reflecting the country's cultural and regional variations\".\n",
    "# Extract the phrase \"North Indian cuisine is famous for dishes like paneer tikka\".\n",
    "# Extract the phrase \"spices play a crucial role\".\n",
    "# Extract the phrase \"Each region offers its own specialties\".\n",
    "\n",
    "# > 56-Bhog Tasks:\n",
    "# Extract the first sentence without using the split method.\n",
    "# Extract the last sentence without using the split method.\n",
    "# Extract the phrase \"rich and diverse\" from the first sentence.\n",
    "# Extract the phrase \"lentil stew\" without using the find method.\n",
    "# Extract the word \"lentils\" in reverse order.\n",
    "# Extract every second word in the paragraph.\n",
    "# Extract the first word of each sentence in the paragraph.\n",
    "# Extract the last word of each sentence in the paragraph.\n",
    "# Extract the paragraph in reverse order.\n",
    "# Extract every third character from the paragraph.\n",
    "# Extract the first and last word of the paragraph.\n",
    "# Extract all words containing the letter 'e'.\n",
    "# Extract the paragraph without the first and last word.\n",
    "# Extract all occurrences of the word \"Indian\" and reverse them.\n",
    "# Extract the phrase \"dal (lentil stew), sabzi (vegetable curry), and roti\" without using the split or find method.\n",
    "# Extract the names of dishes that contain the letter 'a'.\n",
    "# Extract the first and last sentence, and join them into a new string.\n",
    "# Extract the words \"fresh vegetables form\" and reverse the order of these words.\n",
    "# Extract every word that starts with a consonant.\n",
    "# Extract all the capital letters in the paragraph."
   ]
  }
 ],
 "metadata": {
  "kernelspec": {
   "display_name": "Python 3",
   "language": "python",
   "name": "python3"
  },
  "language_info": {
   "codemirror_mode": {
    "name": "ipython",
    "version": 3
   },
   "file_extension": ".py",
   "mimetype": "text/x-python",
   "name": "python",
   "nbconvert_exporter": "python",
   "pygments_lexer": "ipython3",
   "version": "3.13.1"
  }
 },
 "nbformat": 4,
 "nbformat_minor": 5
}
