{
 "cells": [
  {
   "cell_type": "markdown",
   "id": "22e31900-3e01-4c35-8434-de12d5ba4935",
   "metadata": {},
   "source": [
    "var = 'Hello World!!'\n",
    "print(var)\n",
    "\n",
    "This is markdown!"
   ]
  },
  {
   "cell_type": "code",
   "execution_count": 1,
   "id": "bdb47659-5537-469e-a393-81a8f3b7197e",
   "metadata": {},
   "outputs": [
    {
     "name": "stdout",
     "output_type": "stream",
     "text": [
      "30\n"
     ]
    }
   ],
   "source": [
    "var = 10\n",
    "var2 = 20\n",
    "print(var + var2)"
   ]
  }
 ],
 "metadata": {
  "kernelspec": {
   "display_name": "Python 3 (ipykernel)",
   "language": "python",
   "name": "python3"
  },
  "language_info": {
   "codemirror_mode": {
    "name": "ipython",
    "version": 3
   },
   "file_extension": ".py",
   "mimetype": "text/x-python",
   "name": "python",
   "nbconvert_exporter": "python",
   "pygments_lexer": "ipython3",
   "version": "3.13.1"
  }
 },
 "nbformat": 4,
 "nbformat_minor": 5
}
