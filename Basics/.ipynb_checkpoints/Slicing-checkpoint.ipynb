{
 "cells": [
  {
   "cell_type": "code",
   "execution_count": 28,
   "id": "54768737-2884-4bea-9573-aa830021e0e6",
   "metadata": {},
   "outputs": [
    {
     "name": "stdout",
     "output_type": "stream",
     "text": [
      "13\n",
      "ld!\n",
      "ld!\n",
      "Hello, Wor\n",
      "!dlroW ,olleH\n",
      "lle\n",
      "rld\n",
      "!dl\n",
      "!dlroW ,olle\n",
      "oW ,oll\n"
     ]
    }
   ],
   "source": [
    "s = \"Hello, World!\"\n",
    "print(len(s))\n",
    "print(s[len(s)-3:])\n",
    "print(s[-3:])\n",
    "print(s[:-3])\n",
    "print(s[::-1])    # when you put step -1, the string will be reversed\n",
    "print(s[-10:-13:-1])\n",
    "print(f\"{(s[-4:-1:1])}\")\n",
    "print(s[-1:-4:-1])\n",
    "print(s[:0:-1])\n",
    "s[1:-5:-1]\n",
    "print(s[-5:1:-1])"
   ]
  },
  {
   "cell_type": "code",
   "execution_count": 17,
   "id": "8eff5b49-71f3-4455-baab-ecc40a0e5c8e",
   "metadata": {},
   "outputs": [
    {
     "name": "stdout",
     "output_type": "stream",
     "text": [
      "The_quick_brown_fox_jumps_over_the_lazy_dog\n"
     ]
    },
    {
     "data": {
      "text/plain": [
       "'god_yzal_eht_revo'"
      ]
     },
     "execution_count": 17,
     "metadata": {},
     "output_type": "execute_result"
    }
   ],
   "source": [
    "my_string = \"The_quick_brown_fox_jumps_over_the_lazy_dog\"\n",
    "# > reverse a substring from index -10 to -30 with a step of -1\n",
    "print(my_string)\n",
    "# my_string[-10:-30:-1]\n",
    "# > Extract \"dog lazy the over\" form the reversed string\n",
    "my_string[-1:-18:-1]\n",
    "# > Extract every second character in reverse from the original string"
   ]
  }
 ],
 "metadata": {
  "kernelspec": {
   "display_name": "Python 3 (ipykernel)",
   "language": "python",
   "name": "python3"
  },
  "language_info": {
   "codemirror_mode": {
    "name": "ipython",
    "version": 3
   },
   "file_extension": ".py",
   "mimetype": "text/x-python",
   "name": "python",
   "nbconvert_exporter": "python",
   "pygments_lexer": "ipython3",
   "version": "3.13.1"
  }
 },
 "nbformat": 4,
 "nbformat_minor": 5
}
